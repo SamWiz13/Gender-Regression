{
 "cells": [
  {
   "cell_type": "code",
   "execution_count": 7,
   "id": "b2560654",
   "metadata": {},
   "outputs": [],
   "source": [
    "import tensorflow as tf\n",
    "from tensorflow import keras\n",
    "import numpy as np\n",
    "import matplotlib.pyplot as plt\n",
    "import glob\n",
    "import cv2"
   ]
  },
  {
   "cell_type": "code",
   "execution_count": 8,
   "id": "d9c04fac",
   "metadata": {},
   "outputs": [],
   "source": [
    "def datasets(PATH):\n",
    "    labels = ['female','male']\n",
    "    data =[]\n",
    "    for i in range(2):\n",
    "        PATH_NEW = PATH + labels[i] + \"\\\\*\"\n",
    "        print(PATH)\n",
    "        for img in glob.glob(PATH_NEW):\n",
    "            img = cv2.imread(img)\n",
    "            img = cv2.resize(img, (96,96))\n",
    "            data.append((img,i))\n",
    "    return data"
   ]
  },
  {
   "cell_type": "code",
   "execution_count": 9,
   "id": "409c0f5e",
   "metadata": {},
   "outputs": [],
   "source": [
    "train_dir = \"D:\\\\Python online kurs\\\\CNN\\Tensorflow\\\\Female_Male\\Gender\\\\Train\\\\\"\n",
    "test_dir = \"D:\\\\Python online kurs\\\\CNN\\Tensorflow\\\\Female_Male\\\\Gender\\\\Test\\\\\""
   ]
  },
  {
   "cell_type": "code",
   "execution_count": 10,
   "id": "676d8e49",
   "metadata": {},
   "outputs": [
    {
     "name": "stdout",
     "output_type": "stream",
     "text": [
      "D:\\Python online kurs\\CNN\\Tensorflow\\Female_Male\\Gender\\Train\\\n",
      "D:\\Python online kurs\\CNN\\Tensorflow\\Female_Male\\Gender\\Train\\\n",
      "D:\\Python online kurs\\CNN\\Tensorflow\\Female_Male\\Gender\\Test\\\n",
      "D:\\Python online kurs\\CNN\\Tensorflow\\Female_Male\\Gender\\Test\\\n"
     ]
    }
   ],
   "source": [
    "train_dataset = datasets(train_dir)\n",
    "test_dataset = datasets(test_dir)"
   ]
  },
  {
   "cell_type": "code",
   "execution_count": 11,
   "id": "53a7ac0c",
   "metadata": {},
   "outputs": [
    {
     "name": "stdout",
     "output_type": "stream",
     "text": [
      "Train dataset\n",
      "IMGS : 47009\n",
      "Female : 23243\n",
      "Male : 23766\n"
     ]
    }
   ],
   "source": [
    "print(\"Train dataset\")\n",
    "print(\"IMGS :\", len(train_dataset))\n",
    "print(\"Female :\", len([i for i in train_dataset if i[1]==0]))\n",
    "print(\"Male :\", len([i for i in train_dataset if i[1]==1]))"
   ]
  },
  {
   "cell_type": "code",
   "execution_count": 12,
   "id": "f41e3e78",
   "metadata": {},
   "outputs": [
    {
     "name": "stdout",
     "output_type": "stream",
     "text": [
      "Test dataset\n",
      "IMGS : 11649\n",
      "Female : 5841\n",
      "Male : 5808\n"
     ]
    }
   ],
   "source": [
    "print(\"Test dataset\")\n",
    "print(\"IMGS :\", len(test_dataset))\n",
    "print(\"Female :\", len([i for i in test_dataset if i[1]==0]))\n",
    "print(\"Male :\", len([i for i in test_dataset if i[1]==1]))"
   ]
  },
  {
   "cell_type": "code",
   "execution_count": null,
   "id": "dbaf11f2",
   "metadata": {},
   "outputs": [],
   "source": [
    "def Model():\n",
    "    model = keras.models.Sequential([\n",
    "        keras.layers.Conv2D(32, (3,3), input_shape=x_train.shape[1:], activation='relu'),\n",
    "        keras.layers.BatchNormalization(),\n",
    "        keras.layers.Conv2D(32, (3,3), activation='relu'),\n",
    "        keras.layers.BatchNormalization(),\n",
    "        keras.layers.MaxPooling2D(),\n",
    "\n",
    "        keras.layers.Conv2D(64, (3,3),  activation='relu'),\n",
    "        keras.layers.BatchNormalization(),\n",
    "        keras.layers.Conv2D(64, (3,3), activation='relu'),\n",
    "        keras.layers.BatchNormalization(),\n",
    "        keras.layers.MaxPooling2D(),\n",
    "        \n",
    "        keras.layers.Conv2D(128, (3,3),  activation='relu'),\n",
    "        keras.layers.BatchNormalization(),\n",
    "        keras.layers.Conv2D(128, (3,3), activation='relu'),\n",
    "        keras.layers.BatchNormalization(),\n",
    "        keras.layers.MaxPooling2D(),\n",
    "        \n",
    "        keras.layers.Conv2D(256, (3,3),  activation='relu'),\n",
    "        keras.layers.BatchNormalization(),\n",
    "        keras.layers.Conv2D(256, (3,3), activation='relu'),\n",
    "        keras.layers.BatchNormalization(),\n",
    "        keras.layers.MaxPooling2D(),\n",
    "        keras.layers.Dropout(0.5),\n",
    "\n",
    "        keras.layers.Flatten(),\n",
    "        keras.layers.Dense(256, activation='relu'),\n",
    "        keras.layers.Dropout(0.5),\n",
    "        keras.layers.Dense(128, activation='relu'),\n",
    "        keras.layers.Dense(64, activation='relu'),\n",
    "        keras.layers.Dense(32, activation='relu'),\n",
    "        keras.layers.Dense(1, activation='softmax'),\n",
    "    ])\n",
    "\n",
    "    model.compile(optimizer='adam',loss='binary_crossentropy',metrics=['accuracy'])\n",
    "    return model"
   ]
  },
  {
   "cell_type": "code",
   "execution_count": null,
   "id": "88c17893",
   "metadata": {},
   "outputs": [],
   "source": [
    "with tf.device('/GPU:0'):\n",
    "    model_gpu = Model()\n",
    "    model_gpu.fit(x_train,y_test,epochs=10)"
   ]
  }
 ],
 "metadata": {
  "kernelspec": {
   "display_name": "Python 3 (ipykernel)",
   "language": "python",
   "name": "python3"
  },
  "language_info": {
   "codemirror_mode": {
    "name": "ipython",
    "version": 3
   },
   "file_extension": ".py",
   "mimetype": "text/x-python",
   "name": "python",
   "nbconvert_exporter": "python",
   "pygments_lexer": "ipython3",
   "version": "3.9.7"
  }
 },
 "nbformat": 4,
 "nbformat_minor": 5
}

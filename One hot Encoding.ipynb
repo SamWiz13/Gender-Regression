{
 "cells": [
  {
   "cell_type": "code",
   "execution_count": 1,
   "id": "50d59949",
   "metadata": {},
   "outputs": [],
   "source": [
    "import tensorflow as tf\n",
    "from tensorflow import keras\n",
    "import numpy as np\n",
    "import matplotlib.pyplot as plt\n",
    "import cv2\n",
    "import glob"
   ]
  },
  {
   "cell_type": "code",
   "execution_count": 2,
   "id": "92e35452",
   "metadata": {},
   "outputs": [],
   "source": [
    "def datasets(PATH):\n",
    "    labels = ['female','male']\n",
    "    data = []\n",
    "    label = []\n",
    "    onehot = [[1,0],[0,1]]\n",
    "    for i in range(2):\n",
    "        PATH_new = PATH + labels[i] + \"\\\\*\"\n",
    "        print(PATH)\n",
    "        for rasm in glob.glob(PATH_new):\n",
    "            rasm = cv2.imread(rasm)\n",
    "            rasm = cv2.resize(rasm,(96,96))\n",
    "            data.append(rasm)\n",
    "            label.append(onehot[i])\n",
    "    return np.array(data,dtype=np.uint8),np.array(label,dtype=np.uint8)"
   ]
  },
  {
   "cell_type": "code",
   "execution_count": 3,
   "id": "edbea0e2",
   "metadata": {},
   "outputs": [],
   "source": [
    "train_dir = \"D:\\\\Python online kurs\\\\CNN\\Tensorflow\\\\Female_Male\\Gender\\\\Train\\\\\"\n",
    "test_dir = \"D:\\\\Python online kurs\\\\CNN\\Tensorflow\\\\Female_Male\\\\Gender\\\\Test\\\\\""
   ]
  },
  {
   "cell_type": "code",
   "execution_count": 4,
   "id": "c7fb1913",
   "metadata": {},
   "outputs": [
    {
     "name": "stdout",
     "output_type": "stream",
     "text": [
      "D:\\Python online kurs\\CNN\\Tensorflow\\Female_Male\\Gender\\Train\\\n",
      "D:\\Python online kurs\\CNN\\Tensorflow\\Female_Male\\Gender\\Train\\\n",
      "D:\\Python online kurs\\CNN\\Tensorflow\\Female_Male\\Gender\\Test\\\n",
      "D:\\Python online kurs\\CNN\\Tensorflow\\Female_Male\\Gender\\Test\\\n"
     ]
    }
   ],
   "source": [
    "x_train,y_train = datasets(train_dir)\n",
    "x_test, y_test = datasets(test_dir)"
   ]
  },
  {
   "cell_type": "code",
   "execution_count": null,
   "id": "85fbd771",
   "metadata": {},
   "outputs": [],
   "source": [
    "x_train = x_train / 255.0\n",
    "x_test = x_test / 255.0"
   ]
  },
  {
   "cell_type": "code",
   "execution_count": 5,
   "id": "37e2f3e5",
   "metadata": {},
   "outputs": [
    {
     "ename": "TypeError",
     "evalue": "'numpy.dtype[uint8]' object is not callable",
     "output_type": "error",
     "traceback": [
      "\u001b[1;31m---------------------------------------------------------------------------\u001b[0m",
      "\u001b[1;31mTypeError\u001b[0m                                 Traceback (most recent call last)",
      "\u001b[1;32m~\\AppData\\Local\\Temp/ipykernel_9724/3564232497.py\u001b[0m in \u001b[0;36m<module>\u001b[1;34m\u001b[0m\n\u001b[1;32m----> 1\u001b[1;33m \u001b[0mprint\u001b[0m\u001b[1;33m(\u001b[0m\u001b[0mx_train\u001b[0m\u001b[1;33m.\u001b[0m\u001b[0mdtype\u001b[0m\u001b[1;33m(\u001b[0m\u001b[1;33m)\u001b[0m\u001b[1;33m)\u001b[0m\u001b[1;33m\u001b[0m\u001b[1;33m\u001b[0m\u001b[0m\n\u001b[0m",
      "\u001b[1;31mTypeError\u001b[0m: 'numpy.dtype[uint8]' object is not callable"
     ]
    }
   ],
   "source": [
    "print(x_train.dtype())"
   ]
  },
  {
   "cell_type": "code",
   "execution_count": 5,
   "id": "b397ff21",
   "metadata": {},
   "outputs": [
    {
     "name": "stdout",
     "output_type": "stream",
     "text": [
      "(47009, 96, 96, 3)\n"
     ]
    }
   ],
   "source": [
    "print(x_train.shape)"
   ]
  },
  {
   "cell_type": "code",
   "execution_count": 6,
   "id": "79fda903",
   "metadata": {},
   "outputs": [
    {
     "name": "stdout",
     "output_type": "stream",
     "text": [
      "(47009, 96, 96, 3)\n"
     ]
    }
   ],
   "source": [
    "print(x_train.shape)"
   ]
  },
  {
   "cell_type": "code",
   "execution_count": 10,
   "id": "9fae9e5e",
   "metadata": {},
   "outputs": [],
   "source": [
    "model_small =keras.Sequential([\n",
    "    keras.layers.Conv2D(4,(3,3),input_shape=(96,96,3),activation='relu'),\n",
    "    keras.layers.MaxPooling2D((2,2)),\n",
    "    keras.layers.Conv2D(4,(3,3),activation='relu'),\n",
    "    keras.layers.MaxPooling2D((2,2)),\n",
    "    keras.layers.Flatten(),\n",
    "    keras.layers.Denfse(4,activation='relu'),\n",
    "    keras.layers.Dense(2,activation='relu'),\n",
    "    keras.layers.Dense(1)\n",
    "])  "
   ]
  },
  {
   "cell_type": "code",
   "execution_count": 11,
   "id": "e7af6c8b",
   "metadata": {},
   "outputs": [
    {
     "name": "stdout",
     "output_type": "stream",
     "text": [
      "1470/1470 [==============================] - 81s 55ms/step - loss: 7.7126 - accuracy: 0.5000\n"
     ]
    },
    {
     "data": {
      "text/plain": [
       "<keras.callbacks.History at 0x1686d0a7610>"
      ]
     },
     "execution_count": 11,
     "metadata": {},
     "output_type": "execute_result"
    }
   ],
   "source": [
    "\n",
    "model_small.compile(optimizer = 'adam',loss='binary_crossentropy',metrics=['accuracy'])\n",
    "model_small.fit(x_train,y_train,epochs=1)"
   ]
  },
  {
   "cell_type": "code",
   "execution_count": 11,
   "id": "7927f14f",
   "metadata": {},
   "outputs": [],
   "source": [
    "model = keras.Sequential([\n",
    "    keras.layers.Conv2D(32,(3,3),input_shape=(96,96,3),activation='relu'),\n",
    "    keras.layers.MaxPooling2D((2,2)),\n",
    "    keras.layers.Conv2D(64,(3,3),activation='relu'),\n",
    "    keras.layers.MaxPooling2D((2,2)),\n",
    "    keras.layers.Conv2D(128,(3,3),activation='relu'),\n",
    "    keras.layers.MaxPooling2D((2,2)),\n",
    "    keras.layers.Flatten(),\n",
    "    keras.layers.Dense(64,activation='relu'),\n",
    "    keras.layers.Dense(32,activation='relu'),\n",
    "    keras.layers.Dense(2,activation='softmax')\n",
    "])"
   ]
  },
  {
   "cell_type": "code",
   "execution_count": 12,
   "id": "6b22b18a",
   "metadata": {},
   "outputs": [
    {
     "name": "stdout",
     "output_type": "stream",
     "text": [
      "Epoch 1/5\n",
      "1470/1470 [==============================] - 398s 270ms/step - loss: 0.3436 - accuracy: 0.9019\n",
      "Epoch 2/5\n",
      "1470/1470 [==============================] - 395s 268ms/step - loss: 0.1680 - accuracy: 0.9373\n",
      "Epoch 3/5\n",
      "1470/1470 [==============================] - 392s 266ms/step - loss: 0.1429 - accuracy: 0.9481\n",
      "Epoch 4/5\n",
      "1470/1470 [==============================] - 393s 268ms/step - loss: 0.1338 - accuracy: 0.9525\n",
      "Epoch 5/5\n",
      "1470/1470 [==============================] - 417s 284ms/step - loss: 0.1247 - accuracy: 0.9561\n"
     ]
    },
    {
     "data": {
      "text/plain": [
       "<keras.callbacks.History at 0x25de7956520>"
      ]
     },
     "execution_count": 12,
     "metadata": {},
     "output_type": "execute_result"
    }
   ],
   "source": [
    "model.compile(optimizer = 'adam',loss='binary_crossentropy',metrics=['accuracy'])\n",
    "model.fit(x_train,y_train,epochs=5)"
   ]
  },
  {
   "cell_type": "code",
   "execution_count": 13,
   "id": "40de5d2b",
   "metadata": {},
   "outputs": [
    {
     "name": "stdout",
     "output_type": "stream",
     "text": [
      "365/365 [==============================] - 27s 72ms/step - loss: 0.1552 - accuracy: 0.9415\n"
     ]
    },
    {
     "data": {
      "text/plain": [
       "[0.1552259922027588, 0.9415400624275208]"
      ]
     },
     "execution_count": 13,
     "metadata": {},
     "output_type": "execute_result"
    }
   ],
   "source": [
    "model.evaluate(x_test,y_test)"
   ]
  },
  {
   "cell_type": "code",
   "execution_count": null,
   "id": "af662e32",
   "metadata": {},
   "outputs": [],
   "source": [
    "i = 8030\n",
    "rasm = np.expand_dims(x_test[i],0)\n",
    "print(np.argmax(model.predict(rasm)))\n",
    "print(np.around(model.predict(rasm),2))\n",
    "plt.imshow(x_test[i])"
   ]
  }
 ],
 "metadata": {
  "kernelspec": {
   "display_name": "Python 3 (ipykernel)",
   "language": "python",
   "name": "python3"
  },
  "language_info": {
   "codemirror_mode": {
    "name": "ipython",
    "version": 3
   },
   "file_extension": ".py",
   "mimetype": "text/x-python",
   "name": "python",
   "nbconvert_exporter": "python",
   "pygments_lexer": "ipython3",
   "version": "3.9.0"
  }
 },
 "nbformat": 4,
 "nbformat_minor": 5
}
